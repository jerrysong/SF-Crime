{
 "cells": [
  {
   "cell_type": "markdown",
   "metadata": {},
   "source": [
    "First attempt at pulling data from Kaggle and recoding categorical variables of interest into dummy variables."
   ]
  },
  {
   "cell_type": "code",
   "execution_count": 3,
   "metadata": {
    "collapsed": false
   },
   "outputs": [
    {
     "name": "stderr",
     "output_type": "stream",
     "text": [
      "/Users/jerrysong/Library/Python/2.7/lib/python/site-packages/sklearn/cross_validation.py:44: DeprecationWarning: This module was deprecated in version 0.18 in favor of the model_selection module into which all the refactored classes and functions are moved. Also note that the interface of the new CV iterators are different from that of this module. This module will be removed in 0.20.\n",
      "  \"This module will be removed in 0.20.\", DeprecationWarning)\n",
      "/Users/jerrysong/Library/Python/2.7/lib/python/site-packages/sklearn/grid_search.py:43: DeprecationWarning: This module was deprecated in version 0.18 in favor of the model_selection module into which all the refactored classes and functions are moved. This module will be removed in 0.20.\n",
      "  DeprecationWarning)\n"
     ]
    }
   ],
   "source": [
    "%matplotlib inline\n",
    "\n",
    "# Visualization\n",
    "import seaborn as sns\n",
    "import matplotlib.pyplot as plt\n",
    "\n",
    "# Data Structure\n",
    "import numpy as np\n",
    "import scipy as sp\n",
    "import pandas as pd\n",
    "\n",
    "# Machine Learning\n",
    "from sklearn.linear_model import LogisticRegression\n",
    "from sklearn.svm import SVC, LinearSVC\n",
    "from sklearn.ensemble import RandomForestClassifier\n",
    "from sklearn.neighbors import KNeighborsClassifier\n",
    "from sklearn.naive_bayes import GaussianNB\n",
    "from sklearn.linear_model import Perceptron\n",
    "from sklearn.linear_model import SGDClassifier\n",
    "from sklearn.tree import DecisionTreeClassifier\n",
    "from sklearn.grid_search import GridSearchCV\n",
    "from sklearn.neural_network import MLPClassifier\n",
    "\n",
    "# Others\n",
    "from datetime import datetime"
   ]
  },
  {
   "cell_type": "code",
   "execution_count": 4,
   "metadata": {
    "collapsed": false
   },
   "outputs": [
    {
     "name": "stdout",
     "output_type": "stream",
     "text": [
      "Shape of crime_data: (878049, 9)\n"
     ]
    },
    {
     "data": {
      "text/html": [
       "<div>\n",
       "<table border=\"1\" class=\"dataframe\">\n",
       "  <thead>\n",
       "    <tr style=\"text-align: right;\">\n",
       "      <th></th>\n",
       "      <th>Dates</th>\n",
       "      <th>Category</th>\n",
       "      <th>Descript</th>\n",
       "      <th>DayOfWeek</th>\n",
       "      <th>PdDistrict</th>\n",
       "      <th>Resolution</th>\n",
       "      <th>Address</th>\n",
       "      <th>X</th>\n",
       "      <th>Y</th>\n",
       "    </tr>\n",
       "  </thead>\n",
       "  <tbody>\n",
       "    <tr>\n",
       "      <th>0</th>\n",
       "      <td>2015-05-13 23:53:00</td>\n",
       "      <td>WARRANTS</td>\n",
       "      <td>WARRANT ARREST</td>\n",
       "      <td>Wednesday</td>\n",
       "      <td>NORTHERN</td>\n",
       "      <td>ARREST, BOOKED</td>\n",
       "      <td>OAK ST / LAGUNA ST</td>\n",
       "      <td>-122.425892</td>\n",
       "      <td>37.774599</td>\n",
       "    </tr>\n",
       "    <tr>\n",
       "      <th>1</th>\n",
       "      <td>2015-05-13 23:53:00</td>\n",
       "      <td>OTHER OFFENSES</td>\n",
       "      <td>TRAFFIC VIOLATION ARREST</td>\n",
       "      <td>Wednesday</td>\n",
       "      <td>NORTHERN</td>\n",
       "      <td>ARREST, BOOKED</td>\n",
       "      <td>OAK ST / LAGUNA ST</td>\n",
       "      <td>-122.425892</td>\n",
       "      <td>37.774599</td>\n",
       "    </tr>\n",
       "    <tr>\n",
       "      <th>2</th>\n",
       "      <td>2015-05-13 23:33:00</td>\n",
       "      <td>OTHER OFFENSES</td>\n",
       "      <td>TRAFFIC VIOLATION ARREST</td>\n",
       "      <td>Wednesday</td>\n",
       "      <td>NORTHERN</td>\n",
       "      <td>ARREST, BOOKED</td>\n",
       "      <td>VANNESS AV / GREENWICH ST</td>\n",
       "      <td>-122.424363</td>\n",
       "      <td>37.800414</td>\n",
       "    </tr>\n",
       "    <tr>\n",
       "      <th>3</th>\n",
       "      <td>2015-05-13 23:30:00</td>\n",
       "      <td>LARCENY/THEFT</td>\n",
       "      <td>GRAND THEFT FROM LOCKED AUTO</td>\n",
       "      <td>Wednesday</td>\n",
       "      <td>NORTHERN</td>\n",
       "      <td>NONE</td>\n",
       "      <td>1500 Block of LOMBARD ST</td>\n",
       "      <td>-122.426995</td>\n",
       "      <td>37.800873</td>\n",
       "    </tr>\n",
       "    <tr>\n",
       "      <th>4</th>\n",
       "      <td>2015-05-13 23:30:00</td>\n",
       "      <td>LARCENY/THEFT</td>\n",
       "      <td>GRAND THEFT FROM LOCKED AUTO</td>\n",
       "      <td>Wednesday</td>\n",
       "      <td>PARK</td>\n",
       "      <td>NONE</td>\n",
       "      <td>100 Block of BRODERICK ST</td>\n",
       "      <td>-122.438738</td>\n",
       "      <td>37.771541</td>\n",
       "    </tr>\n",
       "  </tbody>\n",
       "</table>\n",
       "</div>"
      ],
      "text/plain": [
       "                 Dates        Category                      Descript  \\\n",
       "0  2015-05-13 23:53:00        WARRANTS                WARRANT ARREST   \n",
       "1  2015-05-13 23:53:00  OTHER OFFENSES      TRAFFIC VIOLATION ARREST   \n",
       "2  2015-05-13 23:33:00  OTHER OFFENSES      TRAFFIC VIOLATION ARREST   \n",
       "3  2015-05-13 23:30:00   LARCENY/THEFT  GRAND THEFT FROM LOCKED AUTO   \n",
       "4  2015-05-13 23:30:00   LARCENY/THEFT  GRAND THEFT FROM LOCKED AUTO   \n",
       "\n",
       "   DayOfWeek PdDistrict      Resolution                    Address  \\\n",
       "0  Wednesday   NORTHERN  ARREST, BOOKED         OAK ST / LAGUNA ST   \n",
       "1  Wednesday   NORTHERN  ARREST, BOOKED         OAK ST / LAGUNA ST   \n",
       "2  Wednesday   NORTHERN  ARREST, BOOKED  VANNESS AV / GREENWICH ST   \n",
       "3  Wednesday   NORTHERN            NONE   1500 Block of LOMBARD ST   \n",
       "4  Wednesday       PARK            NONE  100 Block of BRODERICK ST   \n",
       "\n",
       "            X          Y  \n",
       "0 -122.425892  37.774599  \n",
       "1 -122.425892  37.774599  \n",
       "2 -122.424363  37.800414  \n",
       "3 -122.426995  37.800873  \n",
       "4 -122.438738  37.771541  "
      ]
     },
     "execution_count": 4,
     "metadata": {},
     "output_type": "execute_result"
    }
   ],
   "source": [
    "# Load the data and examine it\n",
    "crime_data = pd.read_csv(\"./train.csv\")\n",
    "print \"Shape of crime_data:\", crime_data.shape\n",
    "crime_data.head()"
   ]
  },
  {
   "cell_type": "code",
   "execution_count": 5,
   "metadata": {
    "collapsed": false
   },
   "outputs": [
    {
     "name": "stdout",
     "output_type": "stream",
     "text": [
      "Shape of test_data: (884262, 7)\n"
     ]
    },
    {
     "data": {
      "text/html": [
       "<div>\n",
       "<table border=\"1\" class=\"dataframe\">\n",
       "  <thead>\n",
       "    <tr style=\"text-align: right;\">\n",
       "      <th></th>\n",
       "      <th>Id</th>\n",
       "      <th>Dates</th>\n",
       "      <th>DayOfWeek</th>\n",
       "      <th>PdDistrict</th>\n",
       "      <th>Address</th>\n",
       "      <th>X</th>\n",
       "      <th>Y</th>\n",
       "    </tr>\n",
       "  </thead>\n",
       "  <tbody>\n",
       "    <tr>\n",
       "      <th>0</th>\n",
       "      <td>0</td>\n",
       "      <td>2015-05-10 23:59:00</td>\n",
       "      <td>Sunday</td>\n",
       "      <td>BAYVIEW</td>\n",
       "      <td>2000 Block of THOMAS AV</td>\n",
       "      <td>-122.399588</td>\n",
       "      <td>37.735051</td>\n",
       "    </tr>\n",
       "    <tr>\n",
       "      <th>1</th>\n",
       "      <td>1</td>\n",
       "      <td>2015-05-10 23:51:00</td>\n",
       "      <td>Sunday</td>\n",
       "      <td>BAYVIEW</td>\n",
       "      <td>3RD ST / REVERE AV</td>\n",
       "      <td>-122.391523</td>\n",
       "      <td>37.732432</td>\n",
       "    </tr>\n",
       "    <tr>\n",
       "      <th>2</th>\n",
       "      <td>2</td>\n",
       "      <td>2015-05-10 23:50:00</td>\n",
       "      <td>Sunday</td>\n",
       "      <td>NORTHERN</td>\n",
       "      <td>2000 Block of GOUGH ST</td>\n",
       "      <td>-122.426002</td>\n",
       "      <td>37.792212</td>\n",
       "    </tr>\n",
       "    <tr>\n",
       "      <th>3</th>\n",
       "      <td>3</td>\n",
       "      <td>2015-05-10 23:45:00</td>\n",
       "      <td>Sunday</td>\n",
       "      <td>INGLESIDE</td>\n",
       "      <td>4700 Block of MISSION ST</td>\n",
       "      <td>-122.437394</td>\n",
       "      <td>37.721412</td>\n",
       "    </tr>\n",
       "    <tr>\n",
       "      <th>4</th>\n",
       "      <td>4</td>\n",
       "      <td>2015-05-10 23:45:00</td>\n",
       "      <td>Sunday</td>\n",
       "      <td>INGLESIDE</td>\n",
       "      <td>4700 Block of MISSION ST</td>\n",
       "      <td>-122.437394</td>\n",
       "      <td>37.721412</td>\n",
       "    </tr>\n",
       "  </tbody>\n",
       "</table>\n",
       "</div>"
      ],
      "text/plain": [
       "   Id                Dates DayOfWeek PdDistrict                   Address  \\\n",
       "0   0  2015-05-10 23:59:00    Sunday    BAYVIEW   2000 Block of THOMAS AV   \n",
       "1   1  2015-05-10 23:51:00    Sunday    BAYVIEW        3RD ST / REVERE AV   \n",
       "2   2  2015-05-10 23:50:00    Sunday   NORTHERN    2000 Block of GOUGH ST   \n",
       "3   3  2015-05-10 23:45:00    Sunday  INGLESIDE  4700 Block of MISSION ST   \n",
       "4   4  2015-05-10 23:45:00    Sunday  INGLESIDE  4700 Block of MISSION ST   \n",
       "\n",
       "            X          Y  \n",
       "0 -122.399588  37.735051  \n",
       "1 -122.391523  37.732432  \n",
       "2 -122.426002  37.792212  \n",
       "3 -122.437394  37.721412  \n",
       "4 -122.437394  37.721412  "
      ]
     },
     "execution_count": 5,
     "metadata": {},
     "output_type": "execute_result"
    }
   ],
   "source": [
    "test_data = pd.read_csv(\"./test.csv\")\n",
    "print \"Shape of test_data:\", test_data.shape\n",
    "test_data.head()"
   ]
  },
  {
   "cell_type": "code",
   "execution_count": 115,
   "metadata": {
    "collapsed": false
   },
   "outputs": [
    {
     "name": "stdout",
     "output_type": "stream",
     "text": [
      "<class 'pandas.core.frame.DataFrame'>\n",
      "RangeIndex: 878049 entries, 0 to 878048\n",
      "Data columns (total 9 columns):\n",
      "Dates         878049 non-null object\n",
      "Category      878049 non-null object\n",
      "Descript      878049 non-null object\n",
      "DayOfWeek     878049 non-null object\n",
      "PdDistrict    878049 non-null object\n",
      "Resolution    878049 non-null object\n",
      "Address       878049 non-null object\n",
      "X             878049 non-null float64\n",
      "Y             878049 non-null float64\n",
      "dtypes: float64(2), object(7)\n",
      "memory usage: 60.3+ MB\n"
     ]
    }
   ],
   "source": [
    "# At the second step, we want to see the basic info of our data.\n",
    "crime_data.info()"
   ]
  },
  {
   "cell_type": "code",
   "execution_count": 10,
   "metadata": {
    "collapsed": false
   },
   "outputs": [
    {
     "name": "stdout",
     "output_type": "stream",
     "text": [
      "                              Dates  Descript  DayOfWeek  PdDistrict  \\\n",
      "Category                                                               \n",
      "ARSON                          1513      1513       1513        1513   \n",
      "ASSAULT                       76876     76876      76876       76876   \n",
      "BAD CHECKS                      406       406        406         406   \n",
      "BRIBERY                         289       289        289         289   \n",
      "BURGLARY                      36755     36755      36755       36755   \n",
      "DISORDERLY CONDUCT             4320      4320       4320        4320   \n",
      "DRIVING UNDER THE INFLUENCE    2268      2268       2268        2268   \n",
      "DRUG/NARCOTIC                 53971     53971      53971       53971   \n",
      "DRUNKENNESS                    4280      4280       4280        4280   \n",
      "EMBEZZLEMENT                   1166      1166       1166        1166   \n",
      "EXTORTION                       256       256        256         256   \n",
      "FAMILY OFFENSES                 491       491        491         491   \n",
      "FORGERY/COUNTERFEITING        10609     10609      10609       10609   \n",
      "FRAUD                         16679     16679      16679       16679   \n",
      "GAMBLING                        146       146        146         146   \n",
      "KIDNAPPING                     2341      2341       2341        2341   \n",
      "LARCENY/THEFT                174900    174900     174900      174900   \n",
      "LIQUOR LAWS                    1903      1903       1903        1903   \n",
      "LOITERING                      1225      1225       1225        1225   \n",
      "MISSING PERSON                25989     25989      25989       25989   \n",
      "NON-CRIMINAL                  92304     92304      92304       92304   \n",
      "OTHER OFFENSES               126182    126182     126182      126182   \n",
      "PORNOGRAPHY/OBSCENE MAT          22        22         22          22   \n",
      "PROSTITUTION                   7484      7484       7484        7484   \n",
      "RECOVERED VEHICLE              3138      3138       3138        3138   \n",
      "ROBBERY                       23000     23000      23000       23000   \n",
      "RUNAWAY                        1946      1946       1946        1946   \n",
      "SECONDARY CODES                9985      9985       9985        9985   \n",
      "SEX OFFENSES FORCIBLE          4388      4388       4388        4388   \n",
      "SEX OFFENSES NON FORCIBLE       148       148        148         148   \n",
      "STOLEN PROPERTY                4540      4540       4540        4540   \n",
      "SUICIDE                         508       508        508         508   \n",
      "SUSPICIOUS OCC                31414     31414      31414       31414   \n",
      "TREA                              6         6          6           6   \n",
      "TRESPASS                       7326      7326       7326        7326   \n",
      "VANDALISM                     44725     44725      44725       44725   \n",
      "VEHICLE THEFT                 53781     53781      53781       53781   \n",
      "WARRANTS                      42214     42214      42214       42214   \n",
      "WEAPON LAWS                    8555      8555       8555        8555   \n",
      "\n",
      "                             Resolution  Address       X       Y  \n",
      "Category                                                          \n",
      "ARSON                              1513     1513    1513    1513  \n",
      "ASSAULT                           76876    76876   76876   76876  \n",
      "BAD CHECKS                          406      406     406     406  \n",
      "BRIBERY                             289      289     289     289  \n",
      "BURGLARY                          36755    36755   36755   36755  \n",
      "DISORDERLY CONDUCT                 4320     4320    4320    4320  \n",
      "DRIVING UNDER THE INFLUENCE        2268     2268    2268    2268  \n",
      "DRUG/NARCOTIC                     53971    53971   53971   53971  \n",
      "DRUNKENNESS                        4280     4280    4280    4280  \n",
      "EMBEZZLEMENT                       1166     1166    1166    1166  \n",
      "EXTORTION                           256      256     256     256  \n",
      "FAMILY OFFENSES                     491      491     491     491  \n",
      "FORGERY/COUNTERFEITING            10609    10609   10609   10609  \n",
      "FRAUD                             16679    16679   16679   16679  \n",
      "GAMBLING                            146      146     146     146  \n",
      "KIDNAPPING                         2341     2341    2341    2341  \n",
      "LARCENY/THEFT                    174900   174900  174900  174900  \n",
      "LIQUOR LAWS                        1903     1903    1903    1903  \n",
      "LOITERING                          1225     1225    1225    1225  \n",
      "MISSING PERSON                    25989    25989   25989   25989  \n",
      "NON-CRIMINAL                      92304    92304   92304   92304  \n",
      "OTHER OFFENSES                   126182   126182  126182  126182  \n",
      "PORNOGRAPHY/OBSCENE MAT              22       22      22      22  \n",
      "PROSTITUTION                       7484     7484    7484    7484  \n",
      "RECOVERED VEHICLE                  3138     3138    3138    3138  \n",
      "ROBBERY                           23000    23000   23000   23000  \n",
      "RUNAWAY                            1946     1946    1946    1946  \n",
      "SECONDARY CODES                    9985     9985    9985    9985  \n",
      "SEX OFFENSES FORCIBLE              4388     4388    4388    4388  \n",
      "SEX OFFENSES NON FORCIBLE           148      148     148     148  \n",
      "STOLEN PROPERTY                    4540     4540    4540    4540  \n",
      "SUICIDE                             508      508     508     508  \n",
      "SUSPICIOUS OCC                    31414    31414   31414   31414  \n",
      "TREA                                  6        6       6       6  \n",
      "TRESPASS                           7326     7326    7326    7326  \n",
      "VANDALISM                         44725    44725   44725   44725  \n",
      "VEHICLE THEFT                     53781    53781   53781   53781  \n",
      "WARRANTS                          42214    42214   42214   42214  \n",
      "WEAPON LAWS                        8555     8555    8555    8555  \n"
     ]
    }
   ],
   "source": [
    "# Show all available crime lables.\n",
    "print crime_data.groupby('Category').count()"
   ]
  },
  {
   "cell_type": "code",
   "execution_count": 65,
   "metadata": {
    "collapsed": false
   },
   "outputs": [],
   "source": [
    "# Convert the date into a python datetime object.\n",
    "crime_data[\"Dates\"] = pd.to_datetime(crime_data[\"Dates\"], format=\"%Y-%m-%d %H:%M:%S\")\n",
    "test_data[\"Dates\"] = pd.to_datetime(test_data[\"Dates\"], format=\"%Y-%m-%d %H:%M:%S\")"
   ]
  },
  {
   "cell_type": "code",
   "execution_count": 66,
   "metadata": {
    "collapsed": false
   },
   "outputs": [
    {
     "data": {
      "text/html": [
       "<div>\n",
       "<table border=\"1\" class=\"dataframe\">\n",
       "  <thead>\n",
       "    <tr style=\"text-align: right;\">\n",
       "      <th></th>\n",
       "      <th>TwentyThree</th>\n",
       "      <th>TwentyTwo</th>\n",
       "      <th>TwentyOne</th>\n",
       "      <th>Twenty</th>\n",
       "      <th>Nineteen</th>\n",
       "      <th>Eighteen</th>\n",
       "      <th>Seventeen</th>\n",
       "      <th>Sixteen</th>\n",
       "      <th>Fifteen</th>\n",
       "      <th>Fourteen</th>\n",
       "      <th>...</th>\n",
       "      <th>Nine</th>\n",
       "      <th>Eight</th>\n",
       "      <th>Seven</th>\n",
       "      <th>Six</th>\n",
       "      <th>Five</th>\n",
       "      <th>Four</th>\n",
       "      <th>Three</th>\n",
       "      <th>Two</th>\n",
       "      <th>One</th>\n",
       "      <th>Zero</th>\n",
       "    </tr>\n",
       "  </thead>\n",
       "  <tbody>\n",
       "    <tr>\n",
       "      <th>0</th>\n",
       "      <td>1</td>\n",
       "      <td>0</td>\n",
       "      <td>0</td>\n",
       "      <td>0</td>\n",
       "      <td>0</td>\n",
       "      <td>0</td>\n",
       "      <td>0</td>\n",
       "      <td>0</td>\n",
       "      <td>0</td>\n",
       "      <td>0</td>\n",
       "      <td>...</td>\n",
       "      <td>0</td>\n",
       "      <td>0</td>\n",
       "      <td>0</td>\n",
       "      <td>0</td>\n",
       "      <td>0</td>\n",
       "      <td>0</td>\n",
       "      <td>0</td>\n",
       "      <td>0</td>\n",
       "      <td>0</td>\n",
       "      <td>0</td>\n",
       "    </tr>\n",
       "    <tr>\n",
       "      <th>1</th>\n",
       "      <td>1</td>\n",
       "      <td>0</td>\n",
       "      <td>0</td>\n",
       "      <td>0</td>\n",
       "      <td>0</td>\n",
       "      <td>0</td>\n",
       "      <td>0</td>\n",
       "      <td>0</td>\n",
       "      <td>0</td>\n",
       "      <td>0</td>\n",
       "      <td>...</td>\n",
       "      <td>0</td>\n",
       "      <td>0</td>\n",
       "      <td>0</td>\n",
       "      <td>0</td>\n",
       "      <td>0</td>\n",
       "      <td>0</td>\n",
       "      <td>0</td>\n",
       "      <td>0</td>\n",
       "      <td>0</td>\n",
       "      <td>0</td>\n",
       "    </tr>\n",
       "    <tr>\n",
       "      <th>2</th>\n",
       "      <td>1</td>\n",
       "      <td>0</td>\n",
       "      <td>0</td>\n",
       "      <td>0</td>\n",
       "      <td>0</td>\n",
       "      <td>0</td>\n",
       "      <td>0</td>\n",
       "      <td>0</td>\n",
       "      <td>0</td>\n",
       "      <td>0</td>\n",
       "      <td>...</td>\n",
       "      <td>0</td>\n",
       "      <td>0</td>\n",
       "      <td>0</td>\n",
       "      <td>0</td>\n",
       "      <td>0</td>\n",
       "      <td>0</td>\n",
       "      <td>0</td>\n",
       "      <td>0</td>\n",
       "      <td>0</td>\n",
       "      <td>0</td>\n",
       "    </tr>\n",
       "    <tr>\n",
       "      <th>3</th>\n",
       "      <td>1</td>\n",
       "      <td>0</td>\n",
       "      <td>0</td>\n",
       "      <td>0</td>\n",
       "      <td>0</td>\n",
       "      <td>0</td>\n",
       "      <td>0</td>\n",
       "      <td>0</td>\n",
       "      <td>0</td>\n",
       "      <td>0</td>\n",
       "      <td>...</td>\n",
       "      <td>0</td>\n",
       "      <td>0</td>\n",
       "      <td>0</td>\n",
       "      <td>0</td>\n",
       "      <td>0</td>\n",
       "      <td>0</td>\n",
       "      <td>0</td>\n",
       "      <td>0</td>\n",
       "      <td>0</td>\n",
       "      <td>0</td>\n",
       "    </tr>\n",
       "    <tr>\n",
       "      <th>4</th>\n",
       "      <td>1</td>\n",
       "      <td>0</td>\n",
       "      <td>0</td>\n",
       "      <td>0</td>\n",
       "      <td>0</td>\n",
       "      <td>0</td>\n",
       "      <td>0</td>\n",
       "      <td>0</td>\n",
       "      <td>0</td>\n",
       "      <td>0</td>\n",
       "      <td>...</td>\n",
       "      <td>0</td>\n",
       "      <td>0</td>\n",
       "      <td>0</td>\n",
       "      <td>0</td>\n",
       "      <td>0</td>\n",
       "      <td>0</td>\n",
       "      <td>0</td>\n",
       "      <td>0</td>\n",
       "      <td>0</td>\n",
       "      <td>0</td>\n",
       "    </tr>\n",
       "  </tbody>\n",
       "</table>\n",
       "<p>5 rows × 24 columns</p>\n",
       "</div>"
      ],
      "text/plain": [
       "   TwentyThree  TwentyTwo  TwentyOne  Twenty  Nineteen  Eighteen  Seventeen  \\\n",
       "0            1          0          0       0         0         0          0   \n",
       "1            1          0          0       0         0         0          0   \n",
       "2            1          0          0       0         0         0          0   \n",
       "3            1          0          0       0         0         0          0   \n",
       "4            1          0          0       0         0         0          0   \n",
       "\n",
       "   Sixteen  Fifteen  Fourteen  ...   Nine  Eight  Seven  Six  Five  Four  \\\n",
       "0        0        0         0  ...      0      0      0    0     0     0   \n",
       "1        0        0         0  ...      0      0      0    0     0     0   \n",
       "2        0        0         0  ...      0      0      0    0     0     0   \n",
       "3        0        0         0  ...      0      0      0    0     0     0   \n",
       "4        0        0         0  ...      0      0      0    0     0     0   \n",
       "\n",
       "   Three  Two  One  Zero  \n",
       "0      0    0    0     0  \n",
       "1      0    0    0     0  \n",
       "2      0    0    0     0  \n",
       "3      0    0    0     0  \n",
       "4      0    0    0     0  \n",
       "\n",
       "[5 rows x 24 columns]"
      ]
     },
     "execution_count": 66,
     "metadata": {},
     "output_type": "execute_result"
    }
   ],
   "source": [
    "# Add 24 binary features representing the happening hour of the crime.\n",
    "hour_map = {0:'Zero', 1:'One', 2:'Two', 3:'Three', 4:'Four', 5:'Five', 6:'Six', 7:'Seven', 8:'Eight', 9:'Nine', \n",
    "            10:'Ten', 11:'Eleven', 12:'Twelve', 13:'Thirteen', 14:'Fourteen', 15:'Fifteen', 16:'Sixteen', \n",
    "            17:'Seventeen', 18:'Eighteen', 19:'Nineteen', 20:'Twenty', 21:'TwentyOne', 22:'TwentyTwo', \n",
    "            23:'TwentyThree'}\n",
    "\n",
    "crime_data[\"Hour\"] = crime_data[\"Dates\"].apply(lambda x: x.hour)\n",
    "for hour in crime_data[\"Hour\"].unique():\n",
    "    crime_data[hour_map[hour]] = pd.Series(crime_data[\"Hour\"] == hour, dtype=int)\n",
    "     \n",
    "test_data[\"Hour\"] = test_data[\"Dates\"].apply(lambda x: x.hour)\n",
    "for hour in test_data[\"Hour\"].unique():\n",
    "    test_data[hour_map[hour]] = pd.Series(test_data[\"Hour\"] == hour, dtype=int)\n",
    "    \n",
    "crime_data.iloc[:5,-24:]"
   ]
  },
  {
   "cell_type": "code",
   "execution_count": 67,
   "metadata": {
    "collapsed": false
   },
   "outputs": [
    {
     "data": {
      "text/html": [
       "<div>\n",
       "<table border=\"1\" class=\"dataframe\">\n",
       "  <thead>\n",
       "    <tr style=\"text-align: right;\">\n",
       "      <th></th>\n",
       "      <th>May</th>\n",
       "      <th>April</th>\n",
       "      <th>March</th>\n",
       "      <th>February</th>\n",
       "      <th>January</th>\n",
       "      <th>December</th>\n",
       "      <th>November</th>\n",
       "      <th>October</th>\n",
       "      <th>September</th>\n",
       "      <th>August</th>\n",
       "      <th>July</th>\n",
       "      <th>June</th>\n",
       "    </tr>\n",
       "  </thead>\n",
       "  <tbody>\n",
       "    <tr>\n",
       "      <th>0</th>\n",
       "      <td>1</td>\n",
       "      <td>0</td>\n",
       "      <td>0</td>\n",
       "      <td>0</td>\n",
       "      <td>0</td>\n",
       "      <td>0</td>\n",
       "      <td>0</td>\n",
       "      <td>0</td>\n",
       "      <td>0</td>\n",
       "      <td>0</td>\n",
       "      <td>0</td>\n",
       "      <td>0</td>\n",
       "    </tr>\n",
       "    <tr>\n",
       "      <th>1</th>\n",
       "      <td>1</td>\n",
       "      <td>0</td>\n",
       "      <td>0</td>\n",
       "      <td>0</td>\n",
       "      <td>0</td>\n",
       "      <td>0</td>\n",
       "      <td>0</td>\n",
       "      <td>0</td>\n",
       "      <td>0</td>\n",
       "      <td>0</td>\n",
       "      <td>0</td>\n",
       "      <td>0</td>\n",
       "    </tr>\n",
       "    <tr>\n",
       "      <th>2</th>\n",
       "      <td>1</td>\n",
       "      <td>0</td>\n",
       "      <td>0</td>\n",
       "      <td>0</td>\n",
       "      <td>0</td>\n",
       "      <td>0</td>\n",
       "      <td>0</td>\n",
       "      <td>0</td>\n",
       "      <td>0</td>\n",
       "      <td>0</td>\n",
       "      <td>0</td>\n",
       "      <td>0</td>\n",
       "    </tr>\n",
       "    <tr>\n",
       "      <th>3</th>\n",
       "      <td>1</td>\n",
       "      <td>0</td>\n",
       "      <td>0</td>\n",
       "      <td>0</td>\n",
       "      <td>0</td>\n",
       "      <td>0</td>\n",
       "      <td>0</td>\n",
       "      <td>0</td>\n",
       "      <td>0</td>\n",
       "      <td>0</td>\n",
       "      <td>0</td>\n",
       "      <td>0</td>\n",
       "    </tr>\n",
       "    <tr>\n",
       "      <th>4</th>\n",
       "      <td>1</td>\n",
       "      <td>0</td>\n",
       "      <td>0</td>\n",
       "      <td>0</td>\n",
       "      <td>0</td>\n",
       "      <td>0</td>\n",
       "      <td>0</td>\n",
       "      <td>0</td>\n",
       "      <td>0</td>\n",
       "      <td>0</td>\n",
       "      <td>0</td>\n",
       "      <td>0</td>\n",
       "    </tr>\n",
       "  </tbody>\n",
       "</table>\n",
       "</div>"
      ],
      "text/plain": [
       "   May  April  March  February   January  December  November  October  \\\n",
       "0    1      0      0          0        0         0         0        0   \n",
       "1    1      0      0          0        0         0         0        0   \n",
       "2    1      0      0          0        0         0         0        0   \n",
       "3    1      0      0          0        0         0         0        0   \n",
       "4    1      0      0          0        0         0         0        0   \n",
       "\n",
       "   September  August  July  June  \n",
       "0          0       0     0     0  \n",
       "1          0       0     0     0  \n",
       "2          0       0     0     0  \n",
       "3          0       0     0     0  \n",
       "4          0       0     0     0  "
      ]
     },
     "execution_count": 67,
     "metadata": {},
     "output_type": "execute_result"
    }
   ],
   "source": [
    "# Add 12 binary features representing the happening month of the crime.\n",
    "month_map = {1:'January', 2:'February ', 3:'March', 4:'April', 5:'May', 6:'June', 7:'July', 8:'August', 9:'September',\n",
    "             10:'October', 11:'November', 12:'December'}\n",
    "\n",
    "crime_data[\"Month\"] = crime_data[\"Dates\"].apply(lambda x: x.month)\n",
    "for month in crime_data[\"Month\"].unique():\n",
    "    crime_data[month_map[month]] = pd.Series(crime_data[\"Month\"] == month, dtype=int)\n",
    "    \n",
    "test_data[\"Month\"] = test_data[\"Dates\"].apply(lambda x: x.month)\n",
    "for month in test_data[\"Month\"].unique():\n",
    "    test_data[month_map[month]] = pd.Series(test_data[\"Month\"] == month, dtype=int)\n",
    "    \n",
    "crime_data.iloc[:5,-12:]"
   ]
  },
  {
   "cell_type": "code",
   "execution_count": 68,
   "metadata": {
    "collapsed": false
   },
   "outputs": [
    {
     "data": {
      "text/html": [
       "<div>\n",
       "<table border=\"1\" class=\"dataframe\">\n",
       "  <thead>\n",
       "    <tr style=\"text-align: right;\">\n",
       "      <th></th>\n",
       "      <th>2015</th>\n",
       "      <th>2014</th>\n",
       "      <th>2013</th>\n",
       "      <th>2012</th>\n",
       "      <th>2011</th>\n",
       "      <th>2010</th>\n",
       "      <th>2009</th>\n",
       "      <th>2008</th>\n",
       "      <th>2007</th>\n",
       "      <th>2006</th>\n",
       "      <th>2005</th>\n",
       "      <th>2004</th>\n",
       "      <th>2003</th>\n",
       "    </tr>\n",
       "  </thead>\n",
       "  <tbody>\n",
       "    <tr>\n",
       "      <th>0</th>\n",
       "      <td>1</td>\n",
       "      <td>0</td>\n",
       "      <td>0</td>\n",
       "      <td>0</td>\n",
       "      <td>0</td>\n",
       "      <td>0</td>\n",
       "      <td>0</td>\n",
       "      <td>0</td>\n",
       "      <td>0</td>\n",
       "      <td>0</td>\n",
       "      <td>0</td>\n",
       "      <td>0</td>\n",
       "      <td>0</td>\n",
       "    </tr>\n",
       "    <tr>\n",
       "      <th>1</th>\n",
       "      <td>1</td>\n",
       "      <td>0</td>\n",
       "      <td>0</td>\n",
       "      <td>0</td>\n",
       "      <td>0</td>\n",
       "      <td>0</td>\n",
       "      <td>0</td>\n",
       "      <td>0</td>\n",
       "      <td>0</td>\n",
       "      <td>0</td>\n",
       "      <td>0</td>\n",
       "      <td>0</td>\n",
       "      <td>0</td>\n",
       "    </tr>\n",
       "    <tr>\n",
       "      <th>2</th>\n",
       "      <td>1</td>\n",
       "      <td>0</td>\n",
       "      <td>0</td>\n",
       "      <td>0</td>\n",
       "      <td>0</td>\n",
       "      <td>0</td>\n",
       "      <td>0</td>\n",
       "      <td>0</td>\n",
       "      <td>0</td>\n",
       "      <td>0</td>\n",
       "      <td>0</td>\n",
       "      <td>0</td>\n",
       "      <td>0</td>\n",
       "    </tr>\n",
       "    <tr>\n",
       "      <th>3</th>\n",
       "      <td>1</td>\n",
       "      <td>0</td>\n",
       "      <td>0</td>\n",
       "      <td>0</td>\n",
       "      <td>0</td>\n",
       "      <td>0</td>\n",
       "      <td>0</td>\n",
       "      <td>0</td>\n",
       "      <td>0</td>\n",
       "      <td>0</td>\n",
       "      <td>0</td>\n",
       "      <td>0</td>\n",
       "      <td>0</td>\n",
       "    </tr>\n",
       "    <tr>\n",
       "      <th>4</th>\n",
       "      <td>1</td>\n",
       "      <td>0</td>\n",
       "      <td>0</td>\n",
       "      <td>0</td>\n",
       "      <td>0</td>\n",
       "      <td>0</td>\n",
       "      <td>0</td>\n",
       "      <td>0</td>\n",
       "      <td>0</td>\n",
       "      <td>0</td>\n",
       "      <td>0</td>\n",
       "      <td>0</td>\n",
       "      <td>0</td>\n",
       "    </tr>\n",
       "  </tbody>\n",
       "</table>\n",
       "</div>"
      ],
      "text/plain": [
       "   2015  2014  2013  2012  2011  2010  2009  2008  2007  2006  2005  2004  \\\n",
       "0     1     0     0     0     0     0     0     0     0     0     0     0   \n",
       "1     1     0     0     0     0     0     0     0     0     0     0     0   \n",
       "2     1     0     0     0     0     0     0     0     0     0     0     0   \n",
       "3     1     0     0     0     0     0     0     0     0     0     0     0   \n",
       "4     1     0     0     0     0     0     0     0     0     0     0     0   \n",
       "\n",
       "   2003  \n",
       "0     0  \n",
       "1     0  \n",
       "2     0  \n",
       "3     0  \n",
       "4     0  "
      ]
     },
     "execution_count": 68,
     "metadata": {},
     "output_type": "execute_result"
    }
   ],
   "source": [
    "# Add 12 binary features representing the happening year of the crime.\n",
    "crime_data[\"Year\"] = crime_data[\"Dates\"].apply(lambda x: x.year)\n",
    "for year in crime_data[\"Year\"].unique():\n",
    "    crime_data[year] = pd.Series(crime_data[\"Year\"] == year, dtype=int)\n",
    "    \n",
    "test_data[\"Year\"] = test_data[\"Dates\"].apply(lambda x: x.year)\n",
    "for year in test_data[\"Year\"].unique():\n",
    "    test_data[year] = pd.Series(test_data[\"Year\"] == year, dtype=int)\n",
    "\n",
    "crime_data.iloc[:5,-13:]"
   ]
  },
  {
   "cell_type": "code",
   "execution_count": 69,
   "metadata": {
    "collapsed": false
   },
   "outputs": [],
   "source": [
    "# Add 7 binary features representing the happening date of week of the crime.\n",
    "for day_of_week in crime_data[\"DayOfWeek\"].unique():\n",
    "    crime_data[day_of_week] = pd.Series(crime_data[\"DayOfWeek\"] == day_of_week, dtype=int)\n",
    "    \n",
    "for day_of_week in test_data[\"DayOfWeek\"].unique():\n",
    "    test_data[day_of_week] = pd.Series(test_data[\"DayOfWeek\"] == day_of_week, dtype=int)\n",
    "    \n",
    "# Add 10 binary features representing the district of the crime.\n",
    "for district in crime_data[\"PdDistrict\"].unique():\n",
    "    crime_data[district] = pd.Series(crime_data[\"PdDistrict\"] == district, dtype=int)\n",
    "    \n",
    "for district in test_data[\"PdDistrict\"].unique():\n",
    "    test_data[district] = pd.Series(test_data[\"PdDistrict\"] == district, dtype=int)"
   ]
  },
  {
   "cell_type": "code",
   "execution_count": 70,
   "metadata": {
    "collapsed": false
   },
   "outputs": [
    {
     "name": "stdout",
     "output_type": "stream",
     "text": [
      "<class 'pandas.core.frame.DataFrame'>\n",
      "RangeIndex: 878049 entries, 0 to 878048\n",
      "Data columns (total 67 columns):\n",
      "Category       878049 non-null object\n",
      "TwentyThree    878049 non-null int64\n",
      "TwentyTwo      878049 non-null int64\n",
      "TwentyOne      878049 non-null int64\n",
      "Twenty         878049 non-null int64\n",
      "Nineteen       878049 non-null int64\n",
      "Eighteen       878049 non-null int64\n",
      "Seventeen      878049 non-null int64\n",
      "Sixteen        878049 non-null int64\n",
      "Fifteen        878049 non-null int64\n",
      "Fourteen       878049 non-null int64\n",
      "Thirteen       878049 non-null int64\n",
      "Twelve         878049 non-null int64\n",
      "Eleven         878049 non-null int64\n",
      "Ten            878049 non-null int64\n",
      "Nine           878049 non-null int64\n",
      "Eight          878049 non-null int64\n",
      "Seven          878049 non-null int64\n",
      "Six            878049 non-null int64\n",
      "Five           878049 non-null int64\n",
      "Four           878049 non-null int64\n",
      "Three          878049 non-null int64\n",
      "Two            878049 non-null int64\n",
      "One            878049 non-null int64\n",
      "Zero           878049 non-null int64\n",
      "May            878049 non-null int64\n",
      "April          878049 non-null int64\n",
      "March          878049 non-null int64\n",
      "February       878049 non-null int64\n",
      "January        878049 non-null int64\n",
      "December       878049 non-null int64\n",
      "November       878049 non-null int64\n",
      "October        878049 non-null int64\n",
      "September      878049 non-null int64\n",
      "August         878049 non-null int64\n",
      "July           878049 non-null int64\n",
      "June           878049 non-null int64\n",
      "2015           878049 non-null int64\n",
      "2014           878049 non-null int64\n",
      "2013           878049 non-null int64\n",
      "2012           878049 non-null int64\n",
      "2011           878049 non-null int64\n",
      "2010           878049 non-null int64\n",
      "2009           878049 non-null int64\n",
      "2008           878049 non-null int64\n",
      "2007           878049 non-null int64\n",
      "2006           878049 non-null int64\n",
      "2005           878049 non-null int64\n",
      "2004           878049 non-null int64\n",
      "2003           878049 non-null int64\n",
      "Wednesday      878049 non-null int64\n",
      "Tuesday        878049 non-null int64\n",
      "Monday         878049 non-null int64\n",
      "Sunday         878049 non-null int64\n",
      "Saturday       878049 non-null int64\n",
      "Friday         878049 non-null int64\n",
      "Thursday       878049 non-null int64\n",
      "NORTHERN       878049 non-null int64\n",
      "PARK           878049 non-null int64\n",
      "INGLESIDE      878049 non-null int64\n",
      "BAYVIEW        878049 non-null int64\n",
      "RICHMOND       878049 non-null int64\n",
      "CENTRAL        878049 non-null int64\n",
      "TARAVAL        878049 non-null int64\n",
      "TENDERLOIN     878049 non-null int64\n",
      "MISSION        878049 non-null int64\n",
      "SOUTHERN       878049 non-null int64\n",
      "dtypes: int64(66), object(1)\n",
      "memory usage: 448.8+ MB\n"
     ]
    }
   ],
   "source": [
    "# Drop the unnecessary feature columns from the train data.\n",
    "crime_data = crime_data.drop(['Hour', 'Month', 'Year', 'Dates', 'DayOfWeek', 'PdDistrict', \n",
    "                              'Descript', 'Resolution', 'Address', 'X', 'Y' ], axis=1)\n",
    "crime_data.info()"
   ]
  },
  {
   "cell_type": "code",
   "execution_count": 26,
   "metadata": {
    "collapsed": false
   },
   "outputs": [
    {
     "name": "stdout",
     "output_type": "stream",
     "text": [
      "(878049, 67) (700000, 66) (700000,) (178049, 66) (178049,)\n",
      "(10000, 66) (10000,) (1000, 66) (1000,)\n"
     ]
    }
   ],
   "source": [
    "# Before we train the models, we need to divide the data into train data and dev data.\n",
    "shuffle = np.random.permutation(np.arange(crime_data.shape[0]))\n",
    "\n",
    "crime_data = crime_data.iloc[shuffle]\n",
    "\n",
    "train_data = crime_data.iloc[:700000].drop('Category', axis=1)\n",
    "train_labels = crime_data.iloc[:700000]['Category']\n",
    "\n",
    "dev_data = crime_data.iloc[700000:].drop('Category', axis=1)\n",
    "dev_labels = crime_data.iloc[700000:]['Category']\n",
    "\n",
    "mini_train_data = crime_data.iloc[:10000].drop('Category', axis=1)\n",
    "mini_train_labels = crime_data.iloc[:10000]['Category']\n",
    "\n",
    "mini_dev_data = crime_data.iloc[10000:11000].drop('Category', axis=1)\n",
    "mini_dev_labels = crime_data.iloc[10000:11000]['Category']\n",
    "\n",
    "print crime_data.shape, train_data.shape, train_labels.shape, dev_data.shape, dev_labels.shape\n",
    "print mini_train_data.shape, mini_train_labels.shape, mini_dev_data.shape, mini_dev_labels.shape"
   ]
  },
  {
   "cell_type": "code",
   "execution_count": 33,
   "metadata": {
    "collapsed": false
   },
   "outputs": [
    {
     "name": "stdout",
     "output_type": "stream",
     "text": [
      "The accuracy of Logistic Regression model is 0.238\n"
     ]
    }
   ],
   "source": [
    "# Now we train some most common models to establish the baseline.\n",
    "\n",
    "# Start with the Logistic Regression\n",
    "logreg = LogisticRegression()\n",
    "logreg.fit(mini_train_data, mini_train_labels)\n",
    "pred_labels = logreg.predict(mini_dev_data)\n",
    "logreg_accuracy = np.mean(mini_dev_labels == pred_labels)\n",
    "print \"The accuracy of Logistic Regression model is %.3f\" % (logreg_accuracy)"
   ]
  },
  {
   "cell_type": "code",
   "execution_count": 34,
   "metadata": {
    "collapsed": false
   },
   "outputs": [
    {
     "name": "stdout",
     "output_type": "stream",
     "text": [
      "The accuracy of Support Vector Machines model is 0.228\n"
     ]
    }
   ],
   "source": [
    "# Support Vector Machines\n",
    "svc = SVC()\n",
    "svc.fit(mini_train_data, mini_train_labels)\n",
    "pred_labels = svc.predict(mini_dev_data)\n",
    "svc_accuracy = np.mean(mini_dev_labels == pred_labels)\n",
    "print \"The accuracy of Support Vector Machines model is %.3f\" % (svc_accuracy)"
   ]
  },
  {
   "cell_type": "code",
   "execution_count": 35,
   "metadata": {
    "collapsed": false
   },
   "outputs": [
    {
     "name": "stdout",
     "output_type": "stream",
     "text": [
      "The accuracy of K Nearest Neighbors model is 0.123\n"
     ]
    }
   ],
   "source": [
    "# K Nearest Neighbors\n",
    "knn = KNeighborsClassifier(n_neighbors = 3)\n",
    "knn.fit(mini_train_data, mini_train_labels)\n",
    "pred_labels = knn.predict(mini_dev_data)\n",
    "knn_accuracy = np.mean(mini_dev_labels == pred_labels)\n",
    "print \"The accuracy of K Nearest Neighbors model is %.3f\" % (knn_accuracy)"
   ]
  },
  {
   "cell_type": "code",
   "execution_count": 36,
   "metadata": {
    "collapsed": false
   },
   "outputs": [
    {
     "name": "stdout",
     "output_type": "stream",
     "text": [
      "The accuracy of Naive Bayes model is 0.003\n"
     ]
    }
   ],
   "source": [
    "# Naive Bayes\n",
    "gaussian = GaussianNB()\n",
    "gaussian.fit(mini_train_data, mini_train_labels)\n",
    "pred_labels = gaussian.predict(mini_dev_data)\n",
    "nb_accuracy = np.mean(mini_dev_labels == pred_labels)\n",
    "print \"The accuracy of Naive Bayes model is %.3f\" % (nb_accuracy)"
   ]
  },
  {
   "cell_type": "code",
   "execution_count": 37,
   "metadata": {
    "collapsed": false
   },
   "outputs": [
    {
     "name": "stdout",
     "output_type": "stream",
     "text": [
      "The accuracy of Decision Tree model is 0.125\n"
     ]
    }
   ],
   "source": [
    "# Decision Tree\n",
    "decision_tree = DecisionTreeClassifier()\n",
    "decision_tree.fit(mini_train_data, mini_train_labels)\n",
    "pred_labels = decision_tree.predict(mini_dev_data)\n",
    "dt_accuracy = np.mean(mini_dev_labels == pred_labels)\n",
    "print \"The accuracy of Decision Tree model is %.3f\" % (dt_accuracy)"
   ]
  },
  {
   "cell_type": "code",
   "execution_count": 38,
   "metadata": {
    "collapsed": false
   },
   "outputs": [
    {
     "name": "stdout",
     "output_type": "stream",
     "text": [
      "The accuracy of Random Forest model is 0.183\n"
     ]
    }
   ],
   "source": [
    "# Random Forest\n",
    "random_forest = RandomForestClassifier(n_estimators=100)\n",
    "random_forest.fit(mini_train_data, mini_train_labels)\n",
    "pred_labels = random_forest.predict(mini_dev_data)\n",
    "rf_accuracy = np.mean(mini_dev_labels == pred_labels)\n",
    "print \"The accuracy of Random Forest model is %.3f\" % (rf_accuracy)"
   ]
  },
  {
   "cell_type": "code",
   "execution_count": 41,
   "metadata": {
    "collapsed": false
   },
   "outputs": [
    {
     "name": "stdout",
     "output_type": "stream",
     "text": [
      "The accuracy of Neural Network model is 0.179\n"
     ]
    },
    {
     "name": "stderr",
     "output_type": "stream",
     "text": [
      "/Users/jerrysong/Library/Python/2.7/lib/python/site-packages/sklearn/neural_network/multilayer_perceptron.py:563: ConvergenceWarning: Stochastic Optimizer: Maximum iterations reached and the optimization hasn't converged yet.\n",
      "  % (), ConvergenceWarning)\n"
     ]
    }
   ],
   "source": [
    "# Neural Network\n",
    "ann = MLPClassifier()\n",
    "ann.fit(mini_train_data, mini_train_labels)\n",
    "pred_labels = ann.predict(mini_dev_data)\n",
    "ann_accuracy = np.mean(mini_dev_labels == pred_labels)\n",
    "print \"The accuracy of Neural Network model is %.3f\" % (ann_accuracy)"
   ]
  },
  {
   "cell_type": "code",
   "execution_count": 42,
   "metadata": {
    "collapsed": false
   },
   "outputs": [
    {
     "data": {
      "text/html": [
       "<div>\n",
       "<table border=\"1\" class=\"dataframe\">\n",
       "  <thead>\n",
       "    <tr style=\"text-align: right;\">\n",
       "      <th></th>\n",
       "      <th>Accuracy</th>\n",
       "      <th>Model</th>\n",
       "    </tr>\n",
       "  </thead>\n",
       "  <tbody>\n",
       "    <tr>\n",
       "      <th>2</th>\n",
       "      <td>0.238</td>\n",
       "      <td>Logistic Regression</td>\n",
       "    </tr>\n",
       "    <tr>\n",
       "      <th>0</th>\n",
       "      <td>0.228</td>\n",
       "      <td>Support Vector Machines</td>\n",
       "    </tr>\n",
       "    <tr>\n",
       "      <th>3</th>\n",
       "      <td>0.183</td>\n",
       "      <td>Random Forest</td>\n",
       "    </tr>\n",
       "    <tr>\n",
       "      <th>5</th>\n",
       "      <td>0.179</td>\n",
       "      <td>Neural Network</td>\n",
       "    </tr>\n",
       "    <tr>\n",
       "      <th>6</th>\n",
       "      <td>0.125</td>\n",
       "      <td>Decision Tree</td>\n",
       "    </tr>\n",
       "    <tr>\n",
       "      <th>1</th>\n",
       "      <td>0.123</td>\n",
       "      <td>KNN</td>\n",
       "    </tr>\n",
       "    <tr>\n",
       "      <th>4</th>\n",
       "      <td>0.003</td>\n",
       "      <td>Naive Bayes</td>\n",
       "    </tr>\n",
       "  </tbody>\n",
       "</table>\n",
       "</div>"
      ],
      "text/plain": [
       "   Accuracy                    Model\n",
       "2     0.238      Logistic Regression\n",
       "0     0.228  Support Vector Machines\n",
       "3     0.183            Random Forest\n",
       "5     0.179           Neural Network\n",
       "6     0.125            Decision Tree\n",
       "1     0.123                      KNN\n",
       "4     0.003              Naive Bayes"
      ]
     },
     "execution_count": 42,
     "metadata": {},
     "output_type": "execute_result"
    }
   ],
   "source": [
    "# Display the rank of the models\n",
    "models = pd.DataFrame({\n",
    "    'Model': ['Support Vector Machines', 'KNN', 'Logistic Regression', \n",
    "              'Random Forest', 'Naive Bayes', 'Neural Network', 'Decision Tree'],\n",
    "    'Accuracy': [svc_accuracy, knn_accuracy, logreg_accuracy, \n",
    "              rf_accuracy, nb_accuracy, ann_accuracy, dt_accuracy]})\n",
    "models.sort_values(by='Accuracy', ascending=False)"
   ]
  },
  {
   "cell_type": "code",
   "execution_count": 44,
   "metadata": {
    "collapsed": false
   },
   "outputs": [
    {
     "name": "stdout",
     "output_type": "stream",
     "text": [
      "The optimal C value is:  0.1\n"
     ]
    },
    {
     "data": {
      "text/plain": [
       "LogisticRegression(C=0.1, class_weight=None, dual=False, fit_intercept=True,\n",
       "          intercept_scaling=1, max_iter=100, multi_class='ovr', n_jobs=1,\n",
       "          penalty='l2', random_state=None, solver='liblinear', tol=0.0001,\n",
       "          verbose=0, warm_start=False)"
      ]
     },
     "execution_count": 44,
     "metadata": {},
     "output_type": "execute_result"
    }
   ],
   "source": [
    "# We will use the Logistic Regression to establish the baseline.\n",
    "\n",
    "# Search for the optimal C value\n",
    "cv = GridSearchCV(LogisticRegression(), {'C' : [0.001, 0.01, 0.1, 0.5, 1.0, 2.0]})\n",
    "cv.fit(mini_train_data, mini_train_labels)\n",
    "optimal_c = cv.best_params_['C']\n",
    "print 'The optimal C value is: ', optimal_c\n",
    "\n",
    "# Retrain the Logistic Regression model with full train data\n",
    "logreg = LogisticRegression(C=optimal_c)\n",
    "logreg.fit(train_data, train_labels)"
   ]
  },
  {
   "cell_type": "code",
   "execution_count": 48,
   "metadata": {
    "collapsed": false
   },
   "outputs": [
    {
     "name": "stdout",
     "output_type": "stream",
     "text": [
      "The accuracy of Logistic Regression model is 0.228\n"
     ]
    }
   ],
   "source": [
    "# Display the prediction accuracy with full dev data\n",
    "pred_labels = logreg.predict(dev_data)\n",
    "logreg_accuracy = np.mean(dev_labels == pred_labels)\n",
    "print \"The accuracy of Logistic Regression model is %.3f\" % (logreg_accuracy)"
   ]
  },
  {
   "cell_type": "code",
   "execution_count": 71,
   "metadata": {
    "collapsed": false
   },
   "outputs": [],
   "source": [
    "# Import the test data and use the selected model to predict\n",
    "test_pred = logreg.predict(test_data.drop(['Hour', 'Month', 'Year', 'Dates', 'DayOfWeek', 'PdDistrict', \n",
    "                            'Id', 'Address', 'X', 'Y' ], axis=1))"
   ]
  },
  {
   "cell_type": "code",
   "execution_count": null,
   "metadata": {
    "collapsed": true
   },
   "outputs": [],
   "source": []
  }
 ],
 "metadata": {
  "kernelspec": {
   "display_name": "Python 2",
   "language": "python",
   "name": "python2"
  },
  "language_info": {
   "codemirror_mode": {
    "name": "ipython",
    "version": 2
   },
   "file_extension": ".py",
   "mimetype": "text/x-python",
   "name": "python",
   "nbconvert_exporter": "python",
   "pygments_lexer": "ipython2",
   "version": "2.7.10"
  }
 },
 "nbformat": 4,
 "nbformat_minor": 0
}
